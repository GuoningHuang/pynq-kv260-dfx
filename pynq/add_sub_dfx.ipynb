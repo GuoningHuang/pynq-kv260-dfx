{
 "cells": [
  {
   "cell_type": "code",
   "execution_count": 3,
   "id": "7f76f286-5144-4b2d-a137-3f5fd52f6ac6",
   "metadata": {},
   "outputs": [
    {
     "name": "stdout",
     "output_type": "stream",
     "text": [
      "/root/jupyter_notebooks/my_code/nested_dfx_tested\n"
     ]
    }
   ],
   "source": [
    "!pwd"
   ]
  },
  {
   "cell_type": "code",
   "execution_count": 1,
   "id": "e42882b8-e1c1-4eec-9592-77f22db32db4",
   "metadata": {},
   "outputs": [
    {
     "data": {
      "application/javascript": [
       "\n",
       "try {\n",
       "require(['notebook/js/codecell'], function(codecell) {\n",
       "  codecell.CodeCell.options_default.highlight_modes[\n",
       "      'magic_text/x-csrc'] = {'reg':[/^%%microblaze/]};\n",
       "  Jupyter.notebook.events.one('kernel_ready.Kernel', function(){\n",
       "      Jupyter.notebook.get_cells().map(function(cell){\n",
       "          if (cell.cell_type == 'code'){ cell.auto_highlight(); } }) ;\n",
       "  });\n",
       "});\n",
       "} catch (e) {};\n"
      ]
     },
     "metadata": {},
     "output_type": "display_data"
    },
    {
     "data": {
      "application/javascript": [
       "\n",
       "try {\n",
       "require(['notebook/js/codecell'], function(codecell) {\n",
       "  codecell.CodeCell.options_default.highlight_modes[\n",
       "      'magic_text/x-csrc'] = {'reg':[/^%%pybind11/]};\n",
       "  Jupyter.notebook.events.one('kernel_ready.Kernel', function(){\n",
       "      Jupyter.notebook.get_cells().map(function(cell){\n",
       "          if (cell.cell_type == 'code'){ cell.auto_highlight(); } }) ;\n",
       "  });\n",
       "});\n",
       "} catch (e) {};\n"
      ]
     },
     "metadata": {},
     "output_type": "display_data"
    }
   ],
   "source": [
    "from pynq import Overlay,allocate,MMIO\n",
    "overlay = Overlay(\"top.bit\")\n",
    "overlay.download()"
   ]
  },
  {
   "cell_type": "code",
   "execution_count": 2,
   "id": "7f49d3fa-4a34-4c6d-a5b6-ca883fc7f5f0",
   "metadata": {},
   "outputs": [],
   "source": [
    "rm = overlay.ip_dict[\"hier_0\"]\n",
    "adder = MMIO(rm['phys_addr'], rm['addr_range'])"
   ]
  },
  {
   "cell_type": "code",
   "execution_count": 3,
   "id": "fbb7cbae-f4c5-4c64-bdff-ac412a6521d0",
   "metadata": {},
   "outputs": [
    {
     "data": {
      "text/plain": [
       "3"
      ]
     },
     "execution_count": 3,
     "metadata": {},
     "output_type": "execute_result"
    }
   ],
   "source": [
    "adder.write(0x10,1)\n",
    "adder.write(0x18,2)\n",
    "adder.read(0x20)"
   ]
  },
  {
   "cell_type": "code",
   "execution_count": 4,
   "id": "84f19ee9-a476-44ef-b500-4dc453112334",
   "metadata": {},
   "outputs": [
    {
     "data": {
      "text/plain": [
       "0"
      ]
     },
     "execution_count": 4,
     "metadata": {},
     "output_type": "execute_result"
    }
   ],
   "source": [
    "pr = overlay.dfx_decoupler_0\n",
    "pr.read(0x0)"
   ]
  },
  {
   "cell_type": "code",
   "execution_count": 5,
   "id": "136040fd-95e9-4891-9244-1ceffb25f79f",
   "metadata": {},
   "outputs": [],
   "source": [
    "import time\n",
    "pr.write(0x0, 0)\n",
    "pr.write(0x0, 1)\n",
    "while pr.read(0x0) != 1:\n",
    "    time.sleep(1e-6)\n",
    "# overlay.pr_download(\"hier_0\",\"hier_0_1.bit\")\n",
    "overlay.pr_download(\"hier_0\",\"hier_0.bit\")\n",
    "pr.write(0x0, 0)\n",
    "time.sleep(0.1)"
   ]
  },
  {
   "cell_type": "code",
   "execution_count": 7,
   "id": "c607d6cb-fb2d-4f4f-8b21-bffe72cc4613",
   "metadata": {},
   "outputs": [
    {
     "data": {
      "text/plain": [
       "8"
      ]
     },
     "execution_count": 7,
     "metadata": {},
     "output_type": "execute_result"
    }
   ],
   "source": [
    "adder.write(0x10,6)\n",
    "adder.write(0x18,2)\n",
    "adder.read(0x20)"
   ]
  },
  {
   "cell_type": "code",
   "execution_count": 32,
   "id": "4c05439f-527f-4411-ae7e-2f1437e31b3f",
   "metadata": {},
   "outputs": [],
   "source": []
  },
  {
   "cell_type": "code",
   "execution_count": null,
   "id": "85e74097-0c90-46b5-9780-27f00d1a9f11",
   "metadata": {},
   "outputs": [],
   "source": []
  },
  {
   "cell_type": "code",
   "execution_count": null,
   "id": "e35eecb8-c05a-40fd-82c5-aa2d00113e17",
   "metadata": {},
   "outputs": [],
   "source": []
  },
  {
   "cell_type": "code",
   "execution_count": null,
   "id": "668bc5fa-bb8b-4450-aff5-34b8abd906b2",
   "metadata": {},
   "outputs": [],
   "source": []
  },
  {
   "cell_type": "code",
   "execution_count": null,
   "id": "c5a191af-2a23-4fb4-afab-de60dbbab025",
   "metadata": {},
   "outputs": [],
   "source": []
  }
 ],
 "metadata": {
  "kernelspec": {
   "display_name": "Python 3 (ipykernel)",
   "language": "python",
   "name": "python3"
  },
  "language_info": {
   "codemirror_mode": {
    "name": "ipython",
    "version": 3
   },
   "file_extension": ".py",
   "mimetype": "text/x-python",
   "name": "python",
   "nbconvert_exporter": "python",
   "pygments_lexer": "ipython3",
   "version": "3.10.12"
  }
 },
 "nbformat": 4,
 "nbformat_minor": 5
}
